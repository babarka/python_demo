{
 "cells": [
  {
   "cell_type": "code",
   "execution_count": 1,
   "metadata": {
    "collapsed": false
   },
   "outputs": [
    {
     "data": {
      "text/plain": [
       "<ibis.impala.client.ImpalaClient at 0x7f7ce0eb2250>"
      ]
     },
     "execution_count": 1,
     "metadata": {},
     "output_type": "execute_result"
    }
   ],
   "source": [
    "import ibis\n",
    "import os\n",
    "hdfs_port = os.environ.get('IBIS_WEBHDFS_PORT', 50070)\n",
    "hdfs = ibis.hdfs_connect(host='quickstart.cloudera', port=hdfs_port)\n",
    "con = ibis.impala.connect('quickstart.cloudera', hdfs_client=hdfs)\n",
    "con"
   ]
  },
  {
   "cell_type": "code",
   "execution_count": 2,
   "metadata": {
    "collapsed": true
   },
   "outputs": [],
   "source": [
    "dat = con.table('german_parquet', database='default')"
   ]
  },
  {
   "cell_type": "code",
   "execution_count": 3,
   "metadata": {
    "collapsed": false
   },
   "outputs": [
    {
     "data": {
      "text/plain": [
       "ref_0\n",
       "DatabaseTable[table]\n",
       "  name: default.`german_parquet`\n",
       "  schema:\n",
       "    cred : int32\n",
       "    acct_bal : int32\n",
       "    dur_cred : int32\n",
       "    pay_stat : int32\n",
       "    purpose : int32\n",
       "    cred_amt : int32\n",
       "    value : int32\n",
       "    len_emp : int32\n",
       "    install_pc : int32\n",
       "    sex_married : int32\n",
       "    guarantors : int32\n",
       "    dur_addr : int32\n",
       "    max_val : int32\n",
       "    age : int32\n",
       "    concurr : int32\n",
       "    typ_aprtmnt : int32\n",
       "    no_creds : int32\n",
       "    occupation : int32\n",
       "    no_dep : int32\n",
       "    telephone : int32\n",
       "    foreign_wkr : int32\n",
       "\n",
       "Aggregation[table]\n",
       "  table:\n",
       "    Table: ref_0\n",
       "  metrics:\n",
       "    mean(cred) = Mean[double]\n",
       "      cred = Column[array(int32)] 'cred' from table ref_0\n",
       "      None\n",
       "  by:\n",
       "    sex_married = Column[array(int32)] 'sex_married' from table ref_0"
      ]
     },
     "execution_count": 3,
     "metadata": {},
     "output_type": "execute_result"
    }
   ],
   "source": [
    "dat.group_by('sex_married').cred.mean()"
   ]
  },
  {
   "cell_type": "code",
   "execution_count": 4,
   "metadata": {
    "collapsed": false
   },
   "outputs": [
    {
     "data": {
      "text/plain": [
       "   sex_married  mean(cred)\n",
       "0            2    0.648387\n",
       "1            3    0.733577\n",
       "2            1    0.600000\n",
       "3            4    0.728261"
      ]
     },
     "execution_count": 4,
     "metadata": {},
     "output_type": "execute_result"
    }
   ],
   "source": [
    "ibis.options.interactive = True\n",
    "dat.group_by('sex_married').cred.mean()"
   ]
  },
  {
   "cell_type": "code",
   "execution_count": 5,
   "metadata": {
    "collapsed": false
   },
   "outputs": [
    {
     "data": {
      "text/plain": [
       "   cred  age  sex_married\n",
       "0     1   21            2\n",
       "1     1   36            3\n",
       "2     1   23            2\n",
       "3     1   39            3\n",
       "4     1   38            3"
      ]
     },
     "execution_count": 5,
     "metadata": {},
     "output_type": "execute_result"
    }
   ],
   "source": [
    "proj = dat['cred', 'age', 'sex_married']\n",
    "proj.limit(5)"
   ]
  },
  {
   "cell_type": "code",
   "execution_count": 6,
   "metadata": {
    "collapsed": false
   },
   "outputs": [
    {
     "data": {
      "text/plain": [
       "35542"
      ]
     },
     "execution_count": 6,
     "metadata": {},
     "output_type": "execute_result"
    }
   ],
   "source": [
    "\n",
    "dat['age'].sum()"
   ]
  },
  {
   "cell_type": "code",
   "execution_count": 7,
   "metadata": {
    "collapsed": false
   },
   "outputs": [
    {
     "data": {
      "text/plain": [
       "1000"
      ]
     },
     "execution_count": 7,
     "metadata": {},
     "output_type": "execute_result"
    }
   ],
   "source": [
    "dat.count()"
   ]
  },
  {
   "cell_type": "code",
   "execution_count": null,
   "metadata": {
    "collapsed": true
   },
   "outputs": [],
   "source": []
  }
 ],
 "metadata": {
  "kernelspec": {
   "display_name": "Python 2",
   "language": "python",
   "name": "python2"
  },
  "language_info": {
   "codemirror_mode": {
    "name": "ipython",
    "version": 2
   },
   "file_extension": ".py",
   "mimetype": "text/x-python",
   "name": "python",
   "nbconvert_exporter": "python",
   "pygments_lexer": "ipython2",
   "version": "2.7.10"
  }
 },
 "nbformat": 4,
 "nbformat_minor": 0
}
